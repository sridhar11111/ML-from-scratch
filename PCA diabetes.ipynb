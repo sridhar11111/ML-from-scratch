{
 "cells": [
  {
   "cell_type": "code",
   "execution_count": 199,
   "id": "e7763260",
   "metadata": {},
   "outputs": [],
   "source": [
    "import pandas as pd\n",
    "import matplotlib.pyplot as plt\n",
    "import seaborn as sns\n",
    "import numpy as np\n",
    "# import missingno as msno"
   ]
  },
  {
   "cell_type": "code",
   "execution_count": 200,
   "id": "b810db67",
   "metadata": {},
   "outputs": [],
   "source": [
    "df = pd.read_csv('Diabetes.csv')\n",
    "label = df.pop(\"Outcome\")\n"
   ]
  },
  {
   "cell_type": "code",
   "execution_count": 201,
   "id": "b7b2fad1",
   "metadata": {},
   "outputs": [
    {
     "data": {
      "text/html": [
       "<div>\n",
       "<style scoped>\n",
       "    .dataframe tbody tr th:only-of-type {\n",
       "        vertical-align: middle;\n",
       "    }\n",
       "\n",
       "    .dataframe tbody tr th {\n",
       "        vertical-align: top;\n",
       "    }\n",
       "\n",
       "    .dataframe thead th {\n",
       "        text-align: right;\n",
       "    }\n",
       "</style>\n",
       "<table border=\"1\" class=\"dataframe\">\n",
       "  <thead>\n",
       "    <tr style=\"text-align: right;\">\n",
       "      <th></th>\n",
       "      <th>Pregnancies</th>\n",
       "      <th>Glucose</th>\n",
       "      <th>BloodPressure</th>\n",
       "      <th>SkinThickness</th>\n",
       "      <th>Insulin</th>\n",
       "      <th>BMI</th>\n",
       "      <th>DiabetesPedigreeFunction</th>\n",
       "      <th>Age</th>\n",
       "    </tr>\n",
       "  </thead>\n",
       "  <tbody>\n",
       "    <tr>\n",
       "      <th>0</th>\n",
       "      <td>6</td>\n",
       "      <td>148</td>\n",
       "      <td>72</td>\n",
       "      <td>35</td>\n",
       "      <td>0</td>\n",
       "      <td>33.6</td>\n",
       "      <td>0.627</td>\n",
       "      <td>50</td>\n",
       "    </tr>\n",
       "    <tr>\n",
       "      <th>1</th>\n",
       "      <td>1</td>\n",
       "      <td>85</td>\n",
       "      <td>66</td>\n",
       "      <td>29</td>\n",
       "      <td>0</td>\n",
       "      <td>26.6</td>\n",
       "      <td>0.351</td>\n",
       "      <td>31</td>\n",
       "    </tr>\n",
       "    <tr>\n",
       "      <th>2</th>\n",
       "      <td>8</td>\n",
       "      <td>183</td>\n",
       "      <td>64</td>\n",
       "      <td>0</td>\n",
       "      <td>0</td>\n",
       "      <td>23.3</td>\n",
       "      <td>0.672</td>\n",
       "      <td>32</td>\n",
       "    </tr>\n",
       "    <tr>\n",
       "      <th>3</th>\n",
       "      <td>1</td>\n",
       "      <td>89</td>\n",
       "      <td>66</td>\n",
       "      <td>23</td>\n",
       "      <td>94</td>\n",
       "      <td>28.1</td>\n",
       "      <td>0.167</td>\n",
       "      <td>21</td>\n",
       "    </tr>\n",
       "    <tr>\n",
       "      <th>4</th>\n",
       "      <td>0</td>\n",
       "      <td>137</td>\n",
       "      <td>40</td>\n",
       "      <td>35</td>\n",
       "      <td>168</td>\n",
       "      <td>43.1</td>\n",
       "      <td>2.288</td>\n",
       "      <td>33</td>\n",
       "    </tr>\n",
       "    <tr>\n",
       "      <th>...</th>\n",
       "      <td>...</td>\n",
       "      <td>...</td>\n",
       "      <td>...</td>\n",
       "      <td>...</td>\n",
       "      <td>...</td>\n",
       "      <td>...</td>\n",
       "      <td>...</td>\n",
       "      <td>...</td>\n",
       "    </tr>\n",
       "    <tr>\n",
       "      <th>763</th>\n",
       "      <td>10</td>\n",
       "      <td>101</td>\n",
       "      <td>76</td>\n",
       "      <td>48</td>\n",
       "      <td>180</td>\n",
       "      <td>32.9</td>\n",
       "      <td>0.171</td>\n",
       "      <td>63</td>\n",
       "    </tr>\n",
       "    <tr>\n",
       "      <th>764</th>\n",
       "      <td>2</td>\n",
       "      <td>122</td>\n",
       "      <td>70</td>\n",
       "      <td>27</td>\n",
       "      <td>0</td>\n",
       "      <td>36.8</td>\n",
       "      <td>0.340</td>\n",
       "      <td>27</td>\n",
       "    </tr>\n",
       "    <tr>\n",
       "      <th>765</th>\n",
       "      <td>5</td>\n",
       "      <td>121</td>\n",
       "      <td>72</td>\n",
       "      <td>23</td>\n",
       "      <td>112</td>\n",
       "      <td>26.2</td>\n",
       "      <td>0.245</td>\n",
       "      <td>30</td>\n",
       "    </tr>\n",
       "    <tr>\n",
       "      <th>766</th>\n",
       "      <td>1</td>\n",
       "      <td>126</td>\n",
       "      <td>60</td>\n",
       "      <td>0</td>\n",
       "      <td>0</td>\n",
       "      <td>30.1</td>\n",
       "      <td>0.349</td>\n",
       "      <td>47</td>\n",
       "    </tr>\n",
       "    <tr>\n",
       "      <th>767</th>\n",
       "      <td>1</td>\n",
       "      <td>93</td>\n",
       "      <td>70</td>\n",
       "      <td>31</td>\n",
       "      <td>0</td>\n",
       "      <td>30.4</td>\n",
       "      <td>0.315</td>\n",
       "      <td>23</td>\n",
       "    </tr>\n",
       "  </tbody>\n",
       "</table>\n",
       "<p>768 rows × 8 columns</p>\n",
       "</div>"
      ],
      "text/plain": [
       "     Pregnancies  Glucose  BloodPressure  SkinThickness  Insulin   BMI  \\\n",
       "0              6      148             72             35        0  33.6   \n",
       "1              1       85             66             29        0  26.6   \n",
       "2              8      183             64              0        0  23.3   \n",
       "3              1       89             66             23       94  28.1   \n",
       "4              0      137             40             35      168  43.1   \n",
       "..           ...      ...            ...            ...      ...   ...   \n",
       "763           10      101             76             48      180  32.9   \n",
       "764            2      122             70             27        0  36.8   \n",
       "765            5      121             72             23      112  26.2   \n",
       "766            1      126             60              0        0  30.1   \n",
       "767            1       93             70             31        0  30.4   \n",
       "\n",
       "     DiabetesPedigreeFunction  Age  \n",
       "0                       0.627   50  \n",
       "1                       0.351   31  \n",
       "2                       0.672   32  \n",
       "3                       0.167   21  \n",
       "4                       2.288   33  \n",
       "..                        ...  ...  \n",
       "763                     0.171   63  \n",
       "764                     0.340   27  \n",
       "765                     0.245   30  \n",
       "766                     0.349   47  \n",
       "767                     0.315   23  \n",
       "\n",
       "[768 rows x 8 columns]"
      ]
     },
     "execution_count": 201,
     "metadata": {},
     "output_type": "execute_result"
    }
   ],
   "source": [
    "df.head()\n",
    "n = df.shape[0]\n",
    "n\n",
    "df"
   ]
  },
  {
   "cell_type": "code",
   "execution_count": 202,
   "id": "5eb261c2",
   "metadata": {},
   "outputs": [
    {
     "data": {
      "text/plain": [
       "<AxesSubplot:>"
      ]
     },
     "execution_count": 202,
     "metadata": {},
     "output_type": "execute_result"
    },
    {
     "data": {
      "image/png": "[encoded data removed]",
      "text/plain": [
       "<Figure size 432x288 with 2 Axes>"
      ]
     },
     "metadata": {
      "needs_background": "light"
     },
     "output_type": "display_data"
    }
   ],
   "source": [
    "# label.head()\n",
    "# data  = df.to_numpy()\n",
    "sns.heatmap(df)\n"
   ]
  },
  {
   "cell_type": "code",
   "execution_count": 203,
   "id": "e8713a82",
   "metadata": {},
   "outputs": [],
   "source": [
    "from sklearn.preprocessing import StandardScaler as SS"
   ]
  },
  {
   "cell_type": "code",
   "execution_count": 204,
   "id": "b4f03bba",
   "metadata": {},
   "outputs": [],
   "source": [
    "data = SS().fit_transform(df)"
   ]
  },
  {
   "cell_type": "code",
   "execution_count": 205,
   "id": "e0f98f4d",
   "metadata": {},
   "outputs": [],
   "source": [
    "cov_mat = np.matmul(data.T,data)/(n-1)"
   ]
  },
  {
   "cell_type": "code",
   "execution_count": null,
   "id": "585c5610",
   "metadata": {},
   "outputs": [],
   "source": []
  },
  {
   "cell_type": "code",
   "execution_count": 206,
   "id": "fb60e8f3",
   "metadata": {},
   "outputs": [
    {
     "data": {
      "text/plain": [
       "array([[ 1.00130378,  0.12962746,  0.14146618, -0.08177826, -0.07363049,\n",
       "         0.01770615, -0.03356638,  0.54505093],\n",
       "       [ 0.12962746,  1.00130378,  0.15278853,  0.05740263,  0.33178913,\n",
       "         0.2213593 ,  0.13751636,  0.26385788],\n",
       "       [ 0.14146618,  0.15278853,  1.00130378,  0.2076409 ,  0.08904933,\n",
       "         0.2821727 ,  0.04131875,  0.23984024],\n",
       "       [-0.08177826,  0.05740263,  0.2076409 ,  1.00130378,  0.43735204,\n",
       "         0.39308503,  0.18416737, -0.11411885],\n",
       "       [-0.07363049,  0.33178913,  0.08904933,  0.43735204,  1.00130378,\n",
       "         0.19811702,  0.18531222, -0.04221793],\n",
       "       [ 0.01770615,  0.2213593 ,  0.2821727 ,  0.39308503,  0.19811702,\n",
       "         1.00130378,  0.14083033,  0.03628912],\n",
       "       [-0.03356638,  0.13751636,  0.04131875,  0.18416737,  0.18531222,\n",
       "         0.14083033,  1.00130378,  0.03360507],\n",
       "       [ 0.54505093,  0.26385788,  0.23984024, -0.11411885, -0.04221793,\n",
       "         0.03628912,  0.03360507,  1.00130378]])"
      ]
     },
     "execution_count": 206,
     "metadata": {},
     "output_type": "execute_result"
    }
   ],
   "source": [
    "cov_mat"
   ]
  },
  {
   "cell_type": "code",
   "execution_count": 207,
   "id": "523f5a58",
   "metadata": {},
   "outputs": [
    {
     "name": "stdout",
     "output_type": "stream",
     "text": [
      "[1.73346726 2.09711056]\n",
      "[[-0.59378583 -0.1284321 ]\n",
      " [-0.17402908 -0.39308257]\n",
      " [-0.18389207 -0.36000261]\n",
      " [ 0.33196534 -0.43982428]\n",
      " [ 0.25078106 -0.43502617]\n",
      " [ 0.1009598  -0.45194134]\n",
      " [ 0.122069   -0.27061144]\n",
      " [-0.62058853 -0.19802707]]\n"
     ]
    }
   ],
   "source": [
    "from scipy.linalg import eigh\n",
    "val,vec  = eigh(cov_mat,eigvals=(6,7))\n",
    "print(val)\n",
    "print(vec)"
   ]
  },
  {
   "cell_type": "code",
   "execution_count": 208,
   "id": "3d617f78",
   "metadata": {},
   "outputs": [
    {
     "name": "stdout",
     "output_type": "stream",
     "text": [
      "(768, 8)\n",
      "(8, 2)\n"
     ]
    },
    {
     "data": {
      "text/plain": [
       "(768, 2)"
      ]
     },
     "execution_count": 208,
     "metadata": {},
     "output_type": "execute_result"
    }
   ],
   "source": [
    "print (data.shape)\n",
    "print (vec.shape)\n",
    "new_cord = np.matmul(data , vec)\n",
    "new_cord.shape"
   ]
  },
  {
   "cell_type": "code",
   "execution_count": 209,
   "id": "b2e57c37",
   "metadata": {},
   "outputs": [],
   "source": [
    "new_cord = np.column_stack((new_cord, label))"
   ]
  },
  {
   "cell_type": "code",
   "execution_count": 210,
   "id": "95f18de6",
   "metadata": {},
   "outputs": [
    {
     "data": {
      "text/plain": [
       "array([[-1.23489499, -1.06850273,  1.        ],\n",
       "       [ 0.73385167,  1.12168331,  0.        ],\n",
       "       [-1.59587594,  0.39647671,  1.        ],\n",
       "       ...,\n",
       "       [-0.09706503,  0.28347525,  0.        ],\n",
       "       [-0.83706234,  1.06032431,  1.        ],\n",
       "       [ 1.15175485,  0.83989172,  0.        ]])"
      ]
     },
     "execution_count": 210,
     "metadata": {},
     "output_type": "execute_result"
    }
   ],
   "source": [
    "new_cord"
   ]
  },
  {
   "cell_type": "code",
   "execution_count": 211,
   "id": "4f31632b",
   "metadata": {},
   "outputs": [
    {
     "data": {
      "text/html": [
       "<div>\n",
       "<style scoped>\n",
       "    .dataframe tbody tr th:only-of-type {\n",
       "        vertical-align: middle;\n",
       "    }\n",
       "\n",
       "    .dataframe tbody tr th {\n",
       "        vertical-align: top;\n",
       "    }\n",
       "\n",
       "    .dataframe thead th {\n",
       "        text-align: right;\n",
       "    }\n",
       "</style>\n",
       "<table border=\"1\" class=\"dataframe\">\n",
       "  <thead>\n",
       "    <tr style=\"text-align: right;\">\n",
       "      <th></th>\n",
       "      <th>1st_pc</th>\n",
       "      <th>2nd_pc</th>\n",
       "      <th>label</th>\n",
       "    </tr>\n",
       "  </thead>\n",
       "  <tbody>\n",
       "    <tr>\n",
       "      <th>0</th>\n",
       "      <td>-1.234895</td>\n",
       "      <td>-1.068503</td>\n",
       "      <td>1.0</td>\n",
       "    </tr>\n",
       "    <tr>\n",
       "      <th>1</th>\n",
       "      <td>0.733852</td>\n",
       "      <td>1.121683</td>\n",
       "      <td>0.0</td>\n",
       "    </tr>\n",
       "    <tr>\n",
       "      <th>2</th>\n",
       "      <td>-1.595876</td>\n",
       "      <td>0.396477</td>\n",
       "      <td>1.0</td>\n",
       "    </tr>\n",
       "    <tr>\n",
       "      <th>3</th>\n",
       "      <td>1.271241</td>\n",
       "      <td>1.115781</td>\n",
       "      <td>0.0</td>\n",
       "    </tr>\n",
       "    <tr>\n",
       "      <th>4</th>\n",
       "      <td>2.184819</td>\n",
       "      <td>-2.359334</td>\n",
       "      <td>1.0</td>\n",
       "    </tr>\n",
       "    <tr>\n",
       "      <th>...</th>\n",
       "      <td>...</td>\n",
       "      <td>...</td>\n",
       "      <td>...</td>\n",
       "    </tr>\n",
       "    <tr>\n",
       "      <th>763</th>\n",
       "      <td>-1.923150</td>\n",
       "      <td>-1.562085</td>\n",
       "      <td>0.0</td>\n",
       "    </tr>\n",
       "    <tr>\n",
       "      <th>764</th>\n",
       "      <td>0.614181</td>\n",
       "      <td>0.100405</td>\n",
       "      <td>0.0</td>\n",
       "    </tr>\n",
       "    <tr>\n",
       "      <th>765</th>\n",
       "      <td>-0.097065</td>\n",
       "      <td>0.283475</td>\n",
       "      <td>0.0</td>\n",
       "    </tr>\n",
       "    <tr>\n",
       "      <th>766</th>\n",
       "      <td>-0.837062</td>\n",
       "      <td>1.060324</td>\n",
       "      <td>1.0</td>\n",
       "    </tr>\n",
       "    <tr>\n",
       "      <th>767</th>\n",
       "      <td>1.151755</td>\n",
       "      <td>0.839892</td>\n",
       "      <td>0.0</td>\n",
       "    </tr>\n",
       "  </tbody>\n",
       "</table>\n",
       "<p>768 rows × 3 columns</p>\n",
       "</div>"
      ],
      "text/plain": [
       "       1st_pc    2nd_pc  label\n",
       "0   -1.234895 -1.068503    1.0\n",
       "1    0.733852  1.121683    0.0\n",
       "2   -1.595876  0.396477    1.0\n",
       "3    1.271241  1.115781    0.0\n",
       "4    2.184819 -2.359334    1.0\n",
       "..        ...       ...    ...\n",
       "763 -1.923150 -1.562085    0.0\n",
       "764  0.614181  0.100405    0.0\n",
       "765 -0.097065  0.283475    0.0\n",
       "766 -0.837062  1.060324    1.0\n",
       "767  1.151755  0.839892    0.0\n",
       "\n",
       "[768 rows x 3 columns]"
      ]
     },
     "execution_count": 211,
     "metadata": {},
     "output_type": "execute_result"
    }
   ],
   "source": [
    "df = pd.DataFrame(new_cord,columns = ['1st_pc','2nd_pc','label'])\n",
    "df"
   ]
  },
  {
   "cell_type": "code",
   "execution_count": null,
   "id": "38811031",
   "metadata": {},
   "outputs": [],
   "source": [
    "import matplotlib.pyplot as _plt\n"
   ]
  },
  {
   "cell_type": "code",
   "execution_count": 225,
   "id": "3fb9b6b0",
   "metadata": {},
   "outputs": [
    {
     "name": "stderr",
     "output_type": "stream",
     "text": [
      "C:\\Users\\Public\\anaconda3\\lib\\site-packages\\seaborn\\axisgrid.py:337: UserWarning: The `size` parameter has been renamed to `height`; please update your code.\n",
      "  warnings.warn(msg, UserWarning)\n"
     ]
    },
    {
     "data": {
      "text/plain": [
       "<seaborn.axisgrid.FacetGrid at 0x191ff2c0d30>"
      ]
     },
     "execution_count": 225,
     "metadata": {},
     "output_type": "execute_result"
    },
    {
     "data": {
      "image/png": "[encoded data removed]",
      "text/plain": [
       "<Figure size 628x576 with 1 Axes>"
      ]
     },
     "metadata": {
      "needs_background": "light"
     },
     "output_type": "display_data"
    }
   ],
   "source": [
    "import seaborn as sns\n",
    "g = sns.FacetGrid(df,hue=\"label\",size=8)\n",
    "g.map_dataframe(sns.scatterplot,'1st_pc','2nd_pc').add_legend()"
   ]
  },
  {
   "cell_type": "code",
   "execution_count": null,
   "id": "bd8b8a2b",
   "metadata": {},
   "outputs": [],
   "source": []
  },
  {
   "cell_type": "code",
   "execution_count": null,
   "id": "1ce3f654",
   "metadata": {},
   "outputs": [],
   "source": []
  }
 ],
 "metadata": {
  "kernelspec": {
   "display_name": "Python 3 (ipykernel)",
   "language": "python",
   "name": "python3"
  },
  "language_info": {
   "codemirror_mode": {
    "name": "ipython",
    "version": 3
   },
   "file_extension": ".py",
   "mimetype": "text/x-python",
   "name": "python",
   "nbconvert_exporter": "python",
   "pygments_lexer": "ipython3",
   "version": "3.9.12"
  }
 },
 "nbformat": 4,
 "nbformat_minor": 5
}
